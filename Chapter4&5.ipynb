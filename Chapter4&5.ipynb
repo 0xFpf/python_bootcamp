{
 "cells": [
  {
   "cell_type": "code",
   "execution_count": 1,
   "id": "c0f38dc1",
   "metadata": {},
   "outputs": [
    {
     "data": {
      "text/plain": [
       "False"
      ]
     },
     "execution_count": 1,
     "metadata": {},
     "output_type": "execute_result"
    }
   ],
   "source": [
    "1<2>3"
   ]
  },
  {
   "cell_type": "code",
   "execution_count": 3,
   "id": "e10896cf",
   "metadata": {},
   "outputs": [
    {
     "data": {
      "text/plain": [
       "False"
      ]
     },
     "execution_count": 3,
     "metadata": {},
     "output_type": "execute_result"
    }
   ],
   "source": [
    "1<2 and 2>3"
   ]
  },
  {
   "cell_type": "code",
   "execution_count": 4,
   "id": "1ea960f4",
   "metadata": {},
   "outputs": [
    {
     "data": {
      "text/plain": [
       "False"
      ]
     },
     "execution_count": 4,
     "metadata": {},
     "output_type": "execute_result"
    }
   ],
   "source": [
    "not(1==1)"
   ]
  },
  {
   "cell_type": "code",
   "execution_count": 5,
   "id": "b930be9b",
   "metadata": {},
   "outputs": [
    {
     "data": {
      "text/plain": [
       "False"
      ]
     },
     "execution_count": 5,
     "metadata": {},
     "output_type": "execute_result"
    }
   ],
   "source": [
    "not 1==1"
   ]
  },
  {
   "cell_type": "markdown",
   "id": "c99dce4c",
   "metadata": {},
   "source": [
    "**Not** asks for opposite boolean, sometimes more readable 1 != 1"
   ]
  },
  {
   "cell_type": "markdown",
   "id": "f56fdbd2",
   "metadata": {},
   "source": [
    "***Chapter 5 - Python Statements***\n",
    "\n",
    "For Loops: tuple unpacking & dictionary unpacking"
   ]
  },
  {
   "cell_type": "code",
   "execution_count": 6,
   "id": "cdcff567",
   "metadata": {},
   "outputs": [
    {
     "name": "stdout",
     "output_type": "stream",
     "text": [
      "(1, 2)\n",
      "(3, 4)\n",
      "(5, 6)\n",
      "(7, 8)\n"
     ]
    }
   ],
   "source": [
    "mylist = [(1,2),(3,4),(5,6),(7,8)]\n",
    "for _ in mylist:\n",
    "    print(_)"
   ]
  },
  {
   "cell_type": "code",
   "execution_count": 8,
   "id": "8ebeadca",
   "metadata": {},
   "outputs": [
    {
     "name": "stdout",
     "output_type": "stream",
     "text": [
      "1\n",
      "2\n",
      "3\n",
      "4\n",
      "5\n",
      "6\n",
      "7\n",
      "8\n"
     ]
    }
   ],
   "source": [
    "for (a,b) in mylist:\n",
    "    print(a)\n",
    "    print(b)"
   ]
  },
  {
   "cell_type": "markdown",
   "id": "5241fc55",
   "metadata": {},
   "source": [
    "you can even use the following w/out parenthesis:"
   ]
  },
  {
   "cell_type": "code",
   "execution_count": 9,
   "id": "d9ef4ad1",
   "metadata": {},
   "outputs": [
    {
     "name": "stdout",
     "output_type": "stream",
     "text": [
      "1\n",
      "3\n",
      "5\n",
      "7\n"
     ]
    }
   ],
   "source": [
    "for a,b in mylist:\n",
    "    print(a)"
   ]
  },
  {
   "cell_type": "code",
   "execution_count": 12,
   "id": "e218ca20",
   "metadata": {},
   "outputs": [
    {
     "name": "stdout",
     "output_type": "stream",
     "text": [
      "k1\n",
      "k2\n",
      "k3\n"
     ]
    }
   ],
   "source": [
    "d = {'k1':1, 'k2':2, 'k3':3}\n",
    "\n",
    "for item in d:\n",
    "    print(item)"
   ]
  },
  {
   "cell_type": "code",
   "execution_count": 13,
   "id": "adbb3463",
   "metadata": {},
   "outputs": [
    {
     "name": "stdout",
     "output_type": "stream",
     "text": [
      "('k1', 1)\n",
      "('k2', 2)\n",
      "('k3', 3)\n"
     ]
    }
   ],
   "source": [
    "for item in d.items():\n",
    "    print(item)"
   ]
  },
  {
   "cell_type": "code",
   "execution_count": 14,
   "id": "c8d80fbf",
   "metadata": {},
   "outputs": [
    {
     "name": "stdout",
     "output_type": "stream",
     "text": [
      "1\n",
      "2\n",
      "3\n"
     ]
    }
   ],
   "source": [
    "for key, value in d.items():\n",
    "    print(value)"
   ]
  },
  {
   "cell_type": "markdown",
   "id": "bbfc9faa",
   "metadata": {},
   "source": [
    "**While Loops**"
   ]
  },
  {
   "cell_type": "code",
   "execution_count": 17,
   "id": "21a2c98e",
   "metadata": {},
   "outputs": [
    {
     "name": "stdout",
     "output_type": "stream",
     "text": [
      "current value of x: 0\n",
      "current value of x: 1\n",
      "current value of x: 2\n",
      "current value of x: 3\n",
      "current value of x: 4\n",
      "x is more than 4\n"
     ]
    }
   ],
   "source": [
    "x=0\n",
    "while x<5:\n",
    "    print(f\"current value of x: {x}\")\n",
    "    x+=1\n",
    "else:\n",
    "    print(\"x is more than 4\")"
   ]
  },
  {
   "cell_type": "markdown",
   "id": "85150b24",
   "metadata": {},
   "source": [
    "_break_: Breaks out of the current closest enclosing loop.\n",
    "\n",
    "_continue_: Goes to the top of the closest enclosing loop.\n",
    "\n",
    "_pass_: Does nothing at all."
   ]
  },
  {
   "cell_type": "markdown",
   "id": "d41f2df6",
   "metadata": {},
   "source": [
    "**Range**"
   ]
  },
  {
   "cell_type": "code",
   "execution_count": 19,
   "id": "0613c561",
   "metadata": {},
   "outputs": [
    {
     "name": "stdout",
     "output_type": "stream",
     "text": [
      "0\n",
      "1\n",
      "2\n",
      "3\n",
      "4\n",
      "5\n",
      "6\n",
      "7\n",
      "8\n",
      "9\n"
     ]
    }
   ],
   "source": [
    "for num in range(10):\n",
    "    print(num)"
   ]
  },
  {
   "cell_type": "markdown",
   "id": "8099dc03",
   "metadata": {},
   "source": [
    "alternative for num in range(0,10):\n",
    "\n",
    "if you want to add a _step_ which skips do>\n",
    "\n",
    "for num in range(0,10,2):\n"
   ]
  },
  {
   "cell_type": "code",
   "execution_count": 20,
   "id": "7cc8b3b4",
   "metadata": {},
   "outputs": [
    {
     "name": "stdout",
     "output_type": "stream",
     "text": [
      "0\n",
      "2\n",
      "4\n",
      "6\n",
      "8\n"
     ]
    }
   ],
   "source": [
    "for num in range(0,10,2):\n",
    "    print(num)"
   ]
  },
  {
   "cell_type": "code",
   "execution_count": 21,
   "id": "cbfa5acd",
   "metadata": {},
   "outputs": [
    {
     "name": "stdout",
     "output_type": "stream",
     "text": [
      "At index 0 the letter is a\n",
      "At index 1 the letter is b\n",
      "At index 2 the letter is c\n",
      "At index 3 the letter is d\n",
      "At index 4 the letter is e\n"
     ]
    }
   ],
   "source": [
    "index_count = 0\n",
    "\n",
    "for letter in 'abcde':\n",
    "    print(\"At index {} the letter is {}\".format(index_count,letter))\n",
    "    index_count += 1"
   ]
  },
  {
   "cell_type": "markdown",
   "id": "9b201216",
   "metadata": {},
   "source": [
    "\n",
    "\n",
    "Keeping track of how many loops you've gone through is so common, that enumerate was created so you don't need to worry about creating and updating this index_count or loop_count variable\n",
    "\n"
   ]
  },
  {
   "cell_type": "code",
   "execution_count": 25,
   "id": "bfabbedc",
   "metadata": {},
   "outputs": [
    {
     "name": "stdout",
     "output_type": "stream",
     "text": [
      "(0, 'a')\n",
      "(1, 'b')\n",
      "(2, 'c')\n",
      "(3, 'd')\n",
      "(4, 'e')\n"
     ]
    }
   ],
   "source": [
    "word=('abcde')\n",
    "for letter in enumerate(word):\n",
    "    print(letter)"
   ]
  },
  {
   "cell_type": "code",
   "execution_count": 22,
   "id": "3e192597",
   "metadata": {},
   "outputs": [
    {
     "name": "stdout",
     "output_type": "stream",
     "text": [
      "At index 0 the letter is a\n",
      "At index 1 the letter is b\n",
      "At index 2 the letter is c\n",
      "At index 3 the letter is d\n",
      "At index 4 the letter is e\n"
     ]
    }
   ],
   "source": [
    "# Notice the tuple unpacking!\n",
    "\n",
    "for i,letter in enumerate('abcde'):\n",
    "    print(\"At index {} the letter is {}\".format(i,letter))"
   ]
  },
  {
   "cell_type": "code",
   "execution_count": 28,
   "id": "bdb5f384",
   "metadata": {},
   "outputs": [
    {
     "data": {
      "text/plain": [
       "[(0, 'a'), (1, 'b'), (2, 'c'), (3, 'd'), (4, 'e')]"
      ]
     },
     "execution_count": 28,
     "metadata": {},
     "output_type": "execute_result"
    }
   ],
   "source": [
    "# This made it into a list\n",
    "list(enumerate('abcde'))"
   ]
  },
  {
   "cell_type": "markdown",
   "id": "bb914617",
   "metadata": {},
   "source": [
    "**Zip Operator**"
   ]
  },
  {
   "cell_type": "code",
   "execution_count": 29,
   "id": "7dcc5eae",
   "metadata": {},
   "outputs": [],
   "source": [
    "mylist1 = [1,2,3,4,5]\n",
    "mylist2 = ['a','b','c','d','e']"
   ]
  },
  {
   "cell_type": "code",
   "execution_count": 32,
   "id": "a873db8d",
   "metadata": {},
   "outputs": [
    {
     "data": {
      "text/plain": [
       "<zip at 0x214d15ace80>"
      ]
     },
     "execution_count": 32,
     "metadata": {},
     "output_type": "execute_result"
    }
   ],
   "source": [
    "\n",
    "\n",
    "# Zip does what it says, zips together two sets (tuples), it is also a generator! \n",
    "# We will explain this later, but for now let's transform it to a list\n",
    "zip(mylist1,mylist2)\n",
    "\n"
   ]
  },
  {
   "cell_type": "code",
   "execution_count": 33,
   "id": "cc6fc916",
   "metadata": {},
   "outputs": [
    {
     "name": "stdout",
     "output_type": "stream",
     "text": [
      "(1, 'a')\n",
      "(2, 'b')\n",
      "(3, 'c')\n",
      "(4, 'd')\n",
      "(5, 'e')\n"
     ]
    }
   ],
   "source": [
    "for item in zip(mylist1,mylist2):\n",
    "    print(item)"
   ]
  },
  {
   "cell_type": "markdown",
   "id": "c214ce77",
   "metadata": {},
   "source": [
    "**IN Operator**\n",
    "works for lists and dictionaries of both numbers & strings"
   ]
  },
  {
   "cell_type": "code",
   "execution_count": 36,
   "id": "16efbbcc",
   "metadata": {},
   "outputs": [
    {
     "data": {
      "text/plain": [
       "True"
      ]
     },
     "execution_count": 36,
     "metadata": {},
     "output_type": "execute_result"
    }
   ],
   "source": [
    "2 in [0,1,2]"
   ]
  },
  {
   "cell_type": "code",
   "execution_count": 37,
   "id": "406eb535",
   "metadata": {},
   "outputs": [
    {
     "data": {
      "text/plain": [
       "False"
      ]
     },
     "execution_count": 37,
     "metadata": {},
     "output_type": "execute_result"
    }
   ],
   "source": [
    "\n",
    "\n",
    "'x' not in ['x','y','z']\n",
    "\n"
   ]
  },
  {
   "cell_type": "markdown",
   "id": "04397588",
   "metadata": {},
   "source": [
    "**List comprehension**"
   ]
  },
  {
   "cell_type": "code",
   "execution_count": 46,
   "id": "01b12b50",
   "metadata": {},
   "outputs": [],
   "source": [
    "mystring1=\"hello\"\n",
    "mylist3=[]\n",
    "for x in mystring:\n",
    "    mylist3.append(x)"
   ]
  },
  {
   "cell_type": "code",
   "execution_count": 47,
   "id": "9e81815c",
   "metadata": {},
   "outputs": [
    {
     "data": {
      "text/plain": [
       "['h', 'e', 'l', 'l', 'o']"
      ]
     },
     "execution_count": 47,
     "metadata": {},
     "output_type": "execute_result"
    }
   ],
   "source": [
    "mylist3"
   ]
  },
  {
   "cell_type": "code",
   "execution_count": 48,
   "id": "64247bcb",
   "metadata": {},
   "outputs": [
    {
     "name": "stdout",
     "output_type": "stream",
     "text": [
      "['h', 'e', 'l', 'l', 'o']\n"
     ]
    }
   ],
   "source": [
    "mylist=[letter for letter in mystring1]\n",
    "print(mylist)"
   ]
  },
  {
   "cell_type": "code",
   "execution_count": 49,
   "id": "558b08a0",
   "metadata": {},
   "outputs": [
    {
     "name": "stdout",
     "output_type": "stream",
     "text": [
      "['w', 'o', 'r', 'd']\n"
     ]
    }
   ],
   "source": [
    "mylist=[x for x in 'word']\n",
    "print(mylist)"
   ]
  },
  {
   "cell_type": "markdown",
   "id": "2a417f79",
   "metadata": {},
   "source": [
    "**enumerate**\n"
   ]
  },
  {
   "cell_type": "code",
   "execution_count": 1,
   "id": "d4b5987d",
   "metadata": {},
   "outputs": [
    {
     "name": "stdout",
     "output_type": "stream",
     "text": [
      "(0, 'a')\n",
      "(1, 'b')\n",
      "(2, 'c')\n",
      "(3, 'd')\n",
      "(4, 'e')\n"
     ]
    }
   ],
   "source": [
    "word='abcde'\n",
    "for item in enumerate(word):\n",
    "    print(item)"
   ]
  },
  {
   "cell_type": "markdown",
   "id": "69ff1213",
   "metadata": {},
   "source": [
    "it replaces the need to create an index variable and track it, such as:\n",
    "\n",
    "index=0\n",
    "\n",
    "word= abced\n",
    "\n",
    "for letter in word:\n",
    "\n",
    "    print(word+ index)\n",
    "    \n",
    "    index+=1"
   ]
  },
  {
   "cell_type": "markdown",
   "id": "9eea211c",
   "metadata": {},
   "source": [
    "Since it returns a tuple you usually want to unzip it like this:"
   ]
  },
  {
   "cell_type": "code",
   "execution_count": 2,
   "id": "c8f23a43",
   "metadata": {},
   "outputs": [
    {
     "name": "stdout",
     "output_type": "stream",
     "text": [
      "0\n",
      "a\n",
      "1\n",
      "b\n",
      "2\n",
      "c\n",
      "3\n",
      "d\n",
      "4\n",
      "e\n"
     ]
    }
   ],
   "source": [
    "word='abcde'\n",
    "for index,item in enumerate(word):\n",
    "    print(index)\n",
    "    print(item)"
   ]
  },
  {
   "cell_type": "markdown",
   "id": "77156529",
   "metadata": {},
   "source": [
    "**Zip Function**"
   ]
  },
  {
   "cell_type": "code",
   "execution_count": 6,
   "id": "a042e8ac",
   "metadata": {},
   "outputs": [
    {
     "name": "stdout",
     "output_type": "stream",
     "text": [
      "(1, 'a')\n",
      "(2, 'b')\n",
      "(3, 'c')\n"
     ]
    }
   ],
   "source": [
    "list1=[1,2,3]\n",
    "list2=['a','b','c']\n",
    "\n",
    "for item in zip(list1,list2):\n",
    "    print(item)\n"
   ]
  },
  {
   "cell_type": "code",
   "execution_count": 8,
   "id": "c63bb061",
   "metadata": {},
   "outputs": [
    {
     "name": "stdout",
     "output_type": "stream",
     "text": [
      "[(1, 'a'), (2, 'b'), (3, 'c')]\n"
     ]
    }
   ],
   "source": [
    "itemz=list(zip(list1,list2))\n",
    "print(itemz)"
   ]
  },
  {
   "cell_type": "markdown",
   "id": "b467ce7f",
   "metadata": {},
   "source": [
    "**IN operator**\n"
   ]
  },
  {
   "cell_type": "code",
   "execution_count": 9,
   "id": "16513b52",
   "metadata": {},
   "outputs": [
    {
     "data": {
      "text/plain": [
       "True"
      ]
     },
     "execution_count": 9,
     "metadata": {},
     "output_type": "execute_result"
    }
   ],
   "source": [
    "2 in [1,2,3]"
   ]
  },
  {
   "cell_type": "code",
   "execution_count": 10,
   "id": "e2962523",
   "metadata": {},
   "outputs": [
    {
     "data": {
      "text/plain": [
       "True"
      ]
     },
     "execution_count": 10,
     "metadata": {},
     "output_type": "execute_result"
    }
   ],
   "source": [
    "'a' in 'a world'"
   ]
  },
  {
   "cell_type": "code",
   "execution_count": 11,
   "id": "9a16d97d",
   "metadata": {},
   "outputs": [
    {
     "data": {
      "text/plain": [
       "False"
      ]
     },
     "execution_count": 11,
     "metadata": {},
     "output_type": "execute_result"
    }
   ],
   "source": [
    "dictionar={'mykey':345}\n",
    "345 in dictionar.keys()"
   ]
  },
  {
   "cell_type": "code",
   "execution_count": 12,
   "id": "5aff1cc2",
   "metadata": {},
   "outputs": [
    {
     "data": {
      "text/plain": [
       "True"
      ]
     },
     "execution_count": 12,
     "metadata": {},
     "output_type": "execute_result"
    }
   ],
   "source": [
    "dictionar={'mykey':345}\n",
    "345 in dictionar.values()"
   ]
  },
  {
   "cell_type": "markdown",
   "id": "9dcc2d19",
   "metadata": {},
   "source": [
    "**Random**"
   ]
  },
  {
   "cell_type": "code",
   "execution_count": 13,
   "id": "7484c718",
   "metadata": {},
   "outputs": [],
   "source": [
    "from random import shuffle"
   ]
  },
  {
   "cell_type": "code",
   "execution_count": 15,
   "id": "3c346579",
   "metadata": {},
   "outputs": [],
   "source": [
    "mylist = [1,2,3,4,5,67,7]\n",
    "rand_list=shuffle(mylist)"
   ]
  },
  {
   "cell_type": "code",
   "execution_count": 16,
   "id": "0889ee37",
   "metadata": {},
   "outputs": [
    {
     "name": "stdout",
     "output_type": "stream",
     "text": [
      "None\n"
     ]
    }
   ],
   "source": [
    "print(rand_list)"
   ]
  },
  {
   "cell_type": "markdown",
   "id": "a1fea389",
   "metadata": {},
   "source": [
    "this function does not return anything, its an in place function like something else i cant remember"
   ]
  },
  {
   "cell_type": "code",
   "execution_count": 17,
   "id": "7331b399",
   "metadata": {},
   "outputs": [
    {
     "data": {
      "text/plain": [
       "[3, 7, 2, 67, 5, 4, 1]"
      ]
     },
     "execution_count": 17,
     "metadata": {},
     "output_type": "execute_result"
    }
   ],
   "source": [
    "mylist"
   ]
  },
  {
   "cell_type": "markdown",
   "id": "6df933c7",
   "metadata": {},
   "source": [
    "as you can see it did shuffle the list itself"
   ]
  },
  {
   "cell_type": "markdown",
   "id": "9556ea72",
   "metadata": {},
   "source": [
    "**List Comprhension**"
   ]
  },
  {
   "cell_type": "code",
   "execution_count": 18,
   "id": "af902e56",
   "metadata": {},
   "outputs": [],
   "source": [
    "mylist=[]\n",
    "mystring='hello'"
   ]
  },
  {
   "cell_type": "code",
   "execution_count": 19,
   "id": "e482483a",
   "metadata": {},
   "outputs": [],
   "source": [
    "mylist= [letter for letter in mystring]"
   ]
  },
  {
   "cell_type": "code",
   "execution_count": 20,
   "id": "b265a5cf",
   "metadata": {},
   "outputs": [
    {
     "data": {
      "text/plain": [
       "['h', 'e', 'l', 'l', 'o']"
      ]
     },
     "execution_count": 20,
     "metadata": {},
     "output_type": "execute_result"
    }
   ],
   "source": [
    "mylist"
   ]
  },
  {
   "cell_type": "markdown",
   "id": "4c8c09f5",
   "metadata": {},
   "source": [
    "its a flattened for loop, instead of\n",
    "\n",
    "    for letter in mystring:\n",
    "\n",
    "        mylist.append(letter)"
   ]
  },
  {
   "cell_type": "code",
   "execution_count": 21,
   "id": "a8f323c3",
   "metadata": {},
   "outputs": [],
   "source": [
    "mylist = [x for x in 'word']"
   ]
  },
  {
   "cell_type": "code",
   "execution_count": 22,
   "id": "45d4ea81",
   "metadata": {},
   "outputs": [
    {
     "data": {
      "text/plain": [
       "['w', 'o', 'r', 'd']"
      ]
     },
     "execution_count": 22,
     "metadata": {},
     "output_type": "execute_result"
    }
   ],
   "source": [
    "mylist"
   ]
  },
  {
   "cell_type": "code",
   "execution_count": 23,
   "id": "885dca88",
   "metadata": {},
   "outputs": [],
   "source": [
    "mylist = [x for x in range(0,11)]"
   ]
  },
  {
   "cell_type": "code",
   "execution_count": 24,
   "id": "11285883",
   "metadata": {},
   "outputs": [
    {
     "data": {
      "text/plain": [
       "[0, 1, 2, 3, 4, 5, 6, 7, 8, 9, 10]"
      ]
     },
     "execution_count": 24,
     "metadata": {},
     "output_type": "execute_result"
    }
   ],
   "source": [
    "mylist"
   ]
  },
  {
   "cell_type": "code",
   "execution_count": 25,
   "id": "033e02cb",
   "metadata": {},
   "outputs": [],
   "source": [
    "mylist = [num**2 for num in range(0,11)]"
   ]
  },
  {
   "cell_type": "code",
   "execution_count": 26,
   "id": "1af5ab41",
   "metadata": {},
   "outputs": [
    {
     "data": {
      "text/plain": [
       "[0, 1, 4, 9, 16, 25, 36, 49, 64, 81, 100]"
      ]
     },
     "execution_count": 26,
     "metadata": {},
     "output_type": "execute_result"
    }
   ],
   "source": [
    "mylist"
   ]
  },
  {
   "cell_type": "markdown",
   "id": "476a10c8",
   "metadata": {},
   "source": [
    "^ basically your appending the first num to the second num (which is the list)\n"
   ]
  },
  {
   "cell_type": "code",
   "execution_count": 28,
   "id": "8672dafb",
   "metadata": {},
   "outputs": [],
   "source": [
    "mylist = [num**2 for num in range(0,11) if num%2==0]"
   ]
  },
  {
   "cell_type": "code",
   "execution_count": 29,
   "id": "03b1e6de",
   "metadata": {},
   "outputs": [
    {
     "data": {
      "text/plain": [
       "[0, 4, 16, 36, 64, 100]"
      ]
     },
     "execution_count": 29,
     "metadata": {},
     "output_type": "execute_result"
    }
   ],
   "source": [
    "mylist"
   ]
  },
  {
   "cell_type": "code",
   "execution_count": 30,
   "id": "75e45af6",
   "metadata": {},
   "outputs": [],
   "source": [
    "results = [x if x%2==0 else 'ODD' for x in range(0,11)]"
   ]
  },
  {
   "cell_type": "code",
   "execution_count": 31,
   "id": "ddc06588",
   "metadata": {},
   "outputs": [
    {
     "data": {
      "text/plain": [
       "[0, 'ODD', 2, 'ODD', 4, 'ODD', 6, 'ODD', 8, 'ODD', 10]"
      ]
     },
     "execution_count": 31,
     "metadata": {},
     "output_type": "execute_result"
    }
   ],
   "source": [
    "results"
   ]
  },
  {
   "cell_type": "markdown",
   "id": "64dce50d",
   "metadata": {},
   "source": [
    "^ here it is switched, its messed up so be careful using these one liners"
   ]
  },
  {
   "cell_type": "markdown",
   "id": "f0b7aec7",
   "metadata": {},
   "source": [
    "**Nested Loop**"
   ]
  },
  {
   "cell_type": "code",
   "execution_count": 37,
   "id": "79a5521f",
   "metadata": {},
   "outputs": [],
   "source": [
    "mylist = []"
   ]
  },
  {
   "cell_type": "code",
   "execution_count": 38,
   "id": "55faec4b",
   "metadata": {},
   "outputs": [],
   "source": [
    "for x in [2,4,6]:\n",
    "    for y in [1,10,1000]:\n",
    "        mylist.append(x*y)"
   ]
  },
  {
   "cell_type": "code",
   "execution_count": 39,
   "id": "bff147c8",
   "metadata": {},
   "outputs": [
    {
     "data": {
      "text/plain": [
       "[2, 20, 2000, 4, 40, 4000, 6, 60, 6000]"
      ]
     },
     "execution_count": 39,
     "metadata": {},
     "output_type": "execute_result"
    }
   ],
   "source": [
    "mylist"
   ]
  },
  {
   "cell_type": "code",
   "execution_count": null,
   "id": "f716d426",
   "metadata": {},
   "outputs": [],
   "source": []
  }
 ],
 "metadata": {
  "kernelspec": {
   "display_name": "Python 3 (ipykernel)",
   "language": "python",
   "name": "python3"
  },
  "language_info": {
   "codemirror_mode": {
    "name": "ipython",
    "version": 3
   },
   "file_extension": ".py",
   "mimetype": "text/x-python",
   "name": "python",
   "nbconvert_exporter": "python",
   "pygments_lexer": "ipython3",
   "version": "3.11.5"
  }
 },
 "nbformat": 4,
 "nbformat_minor": 5
}
